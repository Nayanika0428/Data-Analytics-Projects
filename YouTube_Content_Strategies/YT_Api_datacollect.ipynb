{
 "cells": [
  {
   "cell_type": "markdown",
   "id": "15dcdd4f-41a9-4c7a-9a6a-fe5ae46a75cf",
   "metadata": {},
   "source": [
    "### YouTube API is used to gather statistics on Trending videos and associated channels."
   ]
  },
  {
   "cell_type": "code",
   "execution_count": 2,
   "id": "43ab02d4-741f-41a0-b606-7e508a7be884",
   "metadata": {},
   "outputs": [
    {
     "name": "stdout",
     "output_type": "stream",
     "text": [
      "Collecting google-api-python-client\n",
      "  Downloading google_api_python_client-2.140.0-py2.py3-none-any.whl.metadata (6.7 kB)\n",
      "Collecting httplib2<1.dev0,>=0.19.0 (from google-api-python-client)\n",
      "  Downloading httplib2-0.22.0-py3-none-any.whl.metadata (2.6 kB)\n",
      "Collecting google-auth!=2.24.0,!=2.25.0,<3.0.0.dev0,>=1.32.0 (from google-api-python-client)\n",
      "  Downloading google_auth-2.33.0-py2.py3-none-any.whl.metadata (4.7 kB)\n",
      "Collecting google-auth-httplib2<1.0.0,>=0.2.0 (from google-api-python-client)\n",
      "  Downloading google_auth_httplib2-0.2.0-py2.py3-none-any.whl.metadata (2.2 kB)\n",
      "Collecting google-api-core!=2.0.*,!=2.1.*,!=2.2.*,!=2.3.0,<3.0.0.dev0,>=1.31.5 (from google-api-python-client)\n",
      "  Downloading google_api_core-2.19.1-py3-none-any.whl.metadata (2.7 kB)\n",
      "Collecting uritemplate<5,>=3.0.1 (from google-api-python-client)\n",
      "  Downloading uritemplate-4.1.1-py2.py3-none-any.whl.metadata (2.9 kB)\n",
      "Collecting googleapis-common-protos<2.0.dev0,>=1.56.2 (from google-api-core!=2.0.*,!=2.1.*,!=2.2.*,!=2.3.0,<3.0.0.dev0,>=1.31.5->google-api-python-client)\n",
      "  Downloading googleapis_common_protos-1.63.2-py2.py3-none-any.whl.metadata (1.5 kB)\n",
      "Collecting protobuf!=3.20.0,!=3.20.1,!=4.21.0,!=4.21.1,!=4.21.2,!=4.21.3,!=4.21.4,!=4.21.5,<6.0.0.dev0,>=3.19.5 (from google-api-core!=2.0.*,!=2.1.*,!=2.2.*,!=2.3.0,<3.0.0.dev0,>=1.31.5->google-api-python-client)\n",
      "  Downloading protobuf-5.27.3-cp310-abi3-win_amd64.whl.metadata (592 bytes)\n",
      "Collecting proto-plus<2.0.0dev,>=1.22.3 (from google-api-core!=2.0.*,!=2.1.*,!=2.2.*,!=2.3.0,<3.0.0.dev0,>=1.31.5->google-api-python-client)\n",
      "  Downloading proto_plus-1.24.0-py3-none-any.whl.metadata (2.2 kB)\n",
      "Requirement already satisfied: requests<3.0.0.dev0,>=2.18.0 in c:\\users\\nayanika\\appdata\\local\\programs\\python\\python310\\lib\\site-packages (from google-api-core!=2.0.*,!=2.1.*,!=2.2.*,!=2.3.0,<3.0.0.dev0,>=1.31.5->google-api-python-client) (2.32.3)\n",
      "Collecting cachetools<6.0,>=2.0.0 (from google-auth!=2.24.0,!=2.25.0,<3.0.0.dev0,>=1.32.0->google-api-python-client)\n",
      "  Downloading cachetools-5.4.0-py3-none-any.whl.metadata (5.3 kB)\n",
      "Collecting pyasn1-modules>=0.2.1 (from google-auth!=2.24.0,!=2.25.0,<3.0.0.dev0,>=1.32.0->google-api-python-client)\n",
      "  Downloading pyasn1_modules-0.4.0-py3-none-any.whl.metadata (3.4 kB)\n",
      "Collecting rsa<5,>=3.1.4 (from google-auth!=2.24.0,!=2.25.0,<3.0.0.dev0,>=1.32.0->google-api-python-client)\n",
      "  Downloading rsa-4.9-py3-none-any.whl.metadata (4.2 kB)\n",
      "Requirement already satisfied: pyparsing!=3.0.0,!=3.0.1,!=3.0.2,!=3.0.3,<4,>=2.4.2 in c:\\users\\nayanika\\appdata\\local\\programs\\python\\python310\\lib\\site-packages (from httplib2<1.dev0,>=0.19.0->google-api-python-client) (3.1.2)\n",
      "Collecting pyasn1<0.7.0,>=0.4.6 (from pyasn1-modules>=0.2.1->google-auth!=2.24.0,!=2.25.0,<3.0.0.dev0,>=1.32.0->google-api-python-client)\n",
      "  Downloading pyasn1-0.6.0-py2.py3-none-any.whl.metadata (8.3 kB)\n",
      "Requirement already satisfied: charset-normalizer<4,>=2 in c:\\users\\nayanika\\appdata\\local\\programs\\python\\python310\\lib\\site-packages (from requests<3.0.0.dev0,>=2.18.0->google-api-core!=2.0.*,!=2.1.*,!=2.2.*,!=2.3.0,<3.0.0.dev0,>=1.31.5->google-api-python-client) (3.3.2)\n",
      "Requirement already satisfied: idna<4,>=2.5 in c:\\users\\nayanika\\appdata\\local\\programs\\python\\python310\\lib\\site-packages (from requests<3.0.0.dev0,>=2.18.0->google-api-core!=2.0.*,!=2.1.*,!=2.2.*,!=2.3.0,<3.0.0.dev0,>=1.31.5->google-api-python-client) (3.7)\n",
      "Requirement already satisfied: urllib3<3,>=1.21.1 in c:\\users\\nayanika\\appdata\\local\\programs\\python\\python310\\lib\\site-packages (from requests<3.0.0.dev0,>=2.18.0->google-api-core!=2.0.*,!=2.1.*,!=2.2.*,!=2.3.0,<3.0.0.dev0,>=1.31.5->google-api-python-client) (2.2.2)\n",
      "Requirement already satisfied: certifi>=2017.4.17 in c:\\users\\nayanika\\appdata\\local\\programs\\python\\python310\\lib\\site-packages (from requests<3.0.0.dev0,>=2.18.0->google-api-core!=2.0.*,!=2.1.*,!=2.2.*,!=2.3.0,<3.0.0.dev0,>=1.31.5->google-api-python-client) (2024.6.2)\n",
      "Downloading google_api_python_client-2.140.0-py2.py3-none-any.whl (12.1 MB)\n",
      "   ---------------------------------------- 0.0/12.1 MB ? eta -:--:--\n",
      "   ---------------------------------------- 0.0/12.1 MB ? eta -:--:--\n",
      "    --------------------------------------- 0.3/12.1 MB ? eta -:--:--\n",
      "   -- ------------------------------------- 0.8/12.1 MB 1.4 MB/s eta 0:00:09\n",
      "   --- ------------------------------------ 1.0/12.1 MB 1.4 MB/s eta 0:00:08\n",
      "   ---- ----------------------------------- 1.3/12.1 MB 1.5 MB/s eta 0:00:08\n",
      "   ----- ---------------------------------- 1.6/12.1 MB 1.5 MB/s eta 0:00:08\n",
      "   ------ --------------------------------- 2.1/12.1 MB 1.5 MB/s eta 0:00:07\n",
      "   ------- -------------------------------- 2.4/12.1 MB 1.6 MB/s eta 0:00:07\n",
      "   -------- ------------------------------- 2.6/12.1 MB 1.5 MB/s eta 0:00:07\n",
      "   ---------- ----------------------------- 3.1/12.1 MB 1.6 MB/s eta 0:00:06\n",
      "   ----------- ---------------------------- 3.4/12.1 MB 1.6 MB/s eta 0:00:06\n",
      "   ------------ --------------------------- 3.7/12.1 MB 1.6 MB/s eta 0:00:06\n",
      "   ------------- -------------------------- 4.2/12.1 MB 1.6 MB/s eta 0:00:05\n",
      "   --------------- ------------------------ 4.7/12.1 MB 1.6 MB/s eta 0:00:05\n",
      "   --------------- ------------------------ 4.7/12.1 MB 1.6 MB/s eta 0:00:05\n",
      "   ---------------- ----------------------- 5.0/12.1 MB 1.6 MB/s eta 0:00:05\n",
      "   ------------------ --------------------- 5.5/12.1 MB 1.6 MB/s eta 0:00:05\n",
      "   ------------------- -------------------- 5.8/12.1 MB 1.6 MB/s eta 0:00:05\n",
      "   ------------------- -------------------- 6.0/12.1 MB 1.6 MB/s eta 0:00:04\n",
      "   --------------------- ------------------ 6.6/12.1 MB 1.6 MB/s eta 0:00:04\n",
      "   ---------------------- ----------------- 6.8/12.1 MB 1.6 MB/s eta 0:00:04\n",
      "   ------------------------ --------------- 7.3/12.1 MB 1.6 MB/s eta 0:00:03\n",
      "   ------------------------- -------------- 7.6/12.1 MB 1.6 MB/s eta 0:00:03\n",
      "   -------------------------- ------------- 8.1/12.1 MB 1.6 MB/s eta 0:00:03\n",
      "   -------------------------- ------------- 8.1/12.1 MB 1.6 MB/s eta 0:00:03\n",
      "   ---------------------------- ----------- 8.7/12.1 MB 1.6 MB/s eta 0:00:03\n",
      "   ----------------------------- ---------- 8.9/12.1 MB 1.6 MB/s eta 0:00:03\n",
      "   ------------------------------ --------- 9.2/12.1 MB 1.6 MB/s eta 0:00:02\n",
      "   ------------------------------- -------- 9.4/12.1 MB 1.6 MB/s eta 0:00:02\n",
      "   -------------------------------- ------- 9.7/12.1 MB 1.6 MB/s eta 0:00:02\n",
      "   -------------------------------- ------- 10.0/12.1 MB 1.6 MB/s eta 0:00:02\n",
      "   --------------------------------- ------ 10.2/12.1 MB 1.5 MB/s eta 0:00:02\n",
      "   ---------------------------------- ----- 10.5/12.1 MB 1.5 MB/s eta 0:00:02\n",
      "   ----------------------------------- ---- 10.7/12.1 MB 1.5 MB/s eta 0:00:01\n",
      "   ------------------------------------ --- 11.0/12.1 MB 1.5 MB/s eta 0:00:01\n",
      "   ------------------------------------- -- 11.3/12.1 MB 1.5 MB/s eta 0:00:01\n",
      "   -------------------------------------- - 11.5/12.1 MB 1.5 MB/s eta 0:00:01\n",
      "   -------------------------------------- - 11.8/12.1 MB 1.5 MB/s eta 0:00:01\n",
      "   -------------------------------------- - 11.8/12.1 MB 1.5 MB/s eta 0:00:01\n",
      "   ---------------------------------------  12.1/12.1 MB 1.4 MB/s eta 0:00:01\n",
      "   ---------------------------------------- 12.1/12.1 MB 1.4 MB/s eta 0:00:00\n",
      "Downloading google_api_core-2.19.1-py3-none-any.whl (139 kB)\n",
      "Downloading google_auth-2.33.0-py2.py3-none-any.whl (200 kB)\n",
      "Downloading google_auth_httplib2-0.2.0-py2.py3-none-any.whl (9.3 kB)\n",
      "Downloading httplib2-0.22.0-py3-none-any.whl (96 kB)\n",
      "Downloading uritemplate-4.1.1-py2.py3-none-any.whl (10 kB)\n",
      "Downloading cachetools-5.4.0-py3-none-any.whl (9.5 kB)\n",
      "Downloading googleapis_common_protos-1.63.2-py2.py3-none-any.whl (220 kB)\n",
      "Downloading proto_plus-1.24.0-py3-none-any.whl (50 kB)\n",
      "Downloading protobuf-5.27.3-cp310-abi3-win_amd64.whl (426 kB)\n",
      "Downloading pyasn1_modules-0.4.0-py3-none-any.whl (181 kB)\n",
      "Downloading rsa-4.9-py3-none-any.whl (34 kB)\n",
      "Downloading pyasn1-0.6.0-py2.py3-none-any.whl (85 kB)\n",
      "Installing collected packages: uritemplate, pyasn1, protobuf, httplib2, cachetools, rsa, pyasn1-modules, proto-plus, googleapis-common-protos, google-auth, google-auth-httplib2, google-api-core, google-api-python-client\n",
      "Successfully installed cachetools-5.4.0 google-api-core-2.19.1 google-api-python-client-2.140.0 google-auth-2.33.0 google-auth-httplib2-0.2.0 googleapis-common-protos-1.63.2 httplib2-0.22.0 proto-plus-1.24.0 protobuf-5.27.3 pyasn1-0.6.0 pyasn1-modules-0.4.0 rsa-4.9 uritemplate-4.1.1\n"
     ]
    }
   ],
   "source": [
    "!pip install google-api-python-client"
   ]
  },
  {
   "cell_type": "code",
   "execution_count": 28,
   "id": "90e5af57-5694-4150-9bb7-73b634cd7479",
   "metadata": {},
   "outputs": [],
   "source": [
    "from googleapiclient.discovery import build\n",
    "import googleapiclient.errors"
   ]
  },
  {
   "cell_type": "code",
   "execution_count": 40,
   "id": "a882d362-9c0e-460f-86ab-56c5bc51b252",
   "metadata": {},
   "outputs": [],
   "source": [
    "import requests\n",
    "import pandas as pd"
   ]
  },
  {
   "cell_type": "code",
   "execution_count": 30,
   "id": "07c1a2b9-d0e9-45ee-b99c-f29ecedeff7e",
   "metadata": {},
   "outputs": [],
   "source": [
    "service_name = \"youtube\"\n",
    "version = \"v3\"\n",
    "api_key = \"api_key\""
   ]
  },
  {
   "cell_type": "code",
   "execution_count": 31,
   "id": "1b1c73e0-fe83-4edb-81ba-60c6641307a8",
   "metadata": {},
   "outputs": [],
   "source": [
    "youtube = build(service_name, version, developerKey=api_key)"
   ]
  },
  {
   "cell_type": "markdown",
   "id": "32127dae-a5bc-4d91-8365-80ba5db77617",
   "metadata": {},
   "source": [
    "**Function to obtain the trending videos in India**"
   ]
  },
  {
   "cell_type": "code",
   "execution_count": 47,
   "id": "d04495b3-d812-45b6-b316-c32310fd89ee",
   "metadata": {},
   "outputs": [],
   "source": [
    "def YT_api_request(youtube):\n",
    "    all_results =[]\n",
    "    next_page_token = None\n",
    "\n",
    "    while True:\n",
    "        request = youtube.videos().list(\n",
    "        part=\"snippet,contentDetails,status,statistics,topicDetails\",\n",
    "        chart=\"mostPopular\",\n",
    "        maxResults=50,\n",
    "        regionCode=\"IN\",\n",
    "        pageToken = next_page_token #to fetch all the pages\n",
    "        )\n",
    "    \n",
    "        response = request.execute()\n",
    "    \n",
    "        # Add the current page's results to the all_results list\n",
    "        all_results.extend(response.get(\"items\", []))\n",
    "\n",
    "        # Check if there is a next page\n",
    "        next_page_token = response.get(\"nextPageToken\")\n",
    "        if not next_page_token:\n",
    "            break  # No more pages, exit the loop\n",
    "\n",
    "    return all_results\n",
    "        \n"
   ]
  },
  {
   "cell_type": "code",
   "execution_count": 35,
   "id": "66343100-fe18-40cb-aa92-2b81809b2b58",
   "metadata": {},
   "outputs": [],
   "source": [
    "video_api_result = YT_api_request(youtube)"
   ]
  },
  {
   "cell_type": "code",
   "execution_count": 39,
   "id": "e0a54f2d-03ad-43de-a66c-f9669b3f7cb9",
   "metadata": {},
   "outputs": [],
   "source": [
    "#converting api response into a dataframe\n",
    "if isinstance(video_api_result, list):\n",
    "  data =[]\n",
    "  for item in video_api_result:\n",
    "      if isinstance(item, dict):\n",
    "          video_data = {\n",
    "            'video_id': item.get('id'),\n",
    "            'publishedAt': item['snippet'].get('publishedAt'),\n",
    "            'channelId': item['snippet'].get('channelId'),\n",
    "            'title': item['snippet'].get('title'),\n",
    "            'thumbnails': item['snippet'].get('thumbnails', {}),\n",
    "            'channelTitle': item['snippet'].get('channelTitle'),\n",
    "            'tags': item['snippet'].get('tags', []),\n",
    "            'defaultAudioLanguage': item['snippet'].get('defaultAudioLanguage'),\n",
    "            'duration': item['contentDetails'].get('duration'),\n",
    "            'dimension': item['contentDetails'].get('dimension'),\n",
    "            'definition': item['contentDetails'].get('definition'),\n",
    "            'caption': item['contentDetails'].get('caption'),\n",
    "            'licensedContent': item['contentDetails'].get('licensedContent'),\n",
    "            'contentRating': item['contentDetails'].get('contentRating'),\n",
    "            'projection': item['contentDetails'].get('projection'),\n",
    "            'madeForKids': item['status'].get('madeForKids'),\n",
    "            'viewCount': item['statistics'].get('viewCount'),\n",
    "            'likeCount': item['statistics'].get('likeCount'),\n",
    "            'favoriteCount': item['statistics'].get('favoriteCount'),\n",
    "            'commentCount': item['statistics'].get('commentCount'),\n",
    "            'topicDetails': item['topicDetails'].get('topicCategories')\n",
    "          }\n",
    "          data.append(video_data)"
   ]
  },
  {
   "cell_type": "code",
   "execution_count": 43,
   "id": "e88db78a-de48-4984-b36f-00a358973e8b",
   "metadata": {},
   "outputs": [
    {
     "data": {
      "text/plain": [
       "(160, 21)"
      ]
     },
     "execution_count": 43,
     "metadata": {},
     "output_type": "execute_result"
    }
   ],
   "source": [
    "df = pd.DataFrame(data)\n",
    "df.shape"
   ]
  },
  {
   "cell_type": "code",
   "execution_count": 45,
   "id": "70d5b27f-6d46-440d-ab25-d4c4fbe01c48",
   "metadata": {},
   "outputs": [],
   "source": [
    "df.to_csv(\"D:\\Project_DA\\Youtube Api\\TrendingVideo_YTdata.csv\")"
   ]
  },
  {
   "cell_type": "code",
   "execution_count": 51,
   "id": "36621db4-3408-4e54-9b79-b54261e88526",
   "metadata": {},
   "outputs": [],
   "source": [
    "channel_id_list = df['channelId'].tolist()\n"
   ]
  },
  {
   "cell_type": "code",
   "execution_count": 102,
   "id": "d436f916-b61a-4eb1-8241-2bc9dbd25236",
   "metadata": {},
   "outputs": [
    {
     "data": {
      "text/plain": [
       "160"
      ]
     },
     "execution_count": 102,
     "metadata": {},
     "output_type": "execute_result"
    }
   ],
   "source": [
    "len(channel_id_list)"
   ]
  },
  {
   "cell_type": "markdown",
   "id": "0091baf2-e49b-47ca-bf9e-6b7632dcd615",
   "metadata": {},
   "source": [
    "**Function to get Channel statistics of the trending videos**"
   ]
  },
  {
   "cell_type": "code",
   "execution_count": 115,
   "id": "772d95d0-ea14-419d-a212-33983a720a7d",
   "metadata": {},
   "outputs": [],
   "source": [
    "def YT_api_request_channel(youtube, channel_id_list):\n",
    "    channel_id_list = [cid for cid in channel_id_list if cid]\n",
    "    max_ids_per_request = 50\n",
    "    all_responses = []\n",
    "\n",
    "    for i in range(0, len(channel_id_list), max_ids_per_request):\n",
    "        batch = channel_id_list[i:i + max_ids_per_request]\n",
    "        next_page_token = None\n",
    "        \n",
    "        while True:\n",
    "            request = youtube.channels().list(\n",
    "                part=\"contentDetails,snippet,statistics,topicDetails,status,brandingSettings\",\n",
    "                id=','.join(batch),\n",
    "                pageToken=next_page_token\n",
    "            )\n",
    "            response = request.execute()\n",
    "            all_responses.extend(response['items'])\n",
    "            \n",
    "            next_page_token = response.get('nextPageToken')\n",
    "            if not next_page_token:\n",
    "                break\n",
    "    \n",
    "    return all_responses\n"
   ]
  },
  {
   "cell_type": "code",
   "execution_count": 116,
   "id": "29a4778c-dc87-41a7-84d7-edf4d59b021e",
   "metadata": {},
   "outputs": [],
   "source": [
    "channel_response = YT_api_request_channel(youtube, channel_id_list)"
   ]
  },
  {
   "cell_type": "code",
   "execution_count": 129,
   "id": "1fa60ef7-a6a3-4b85-b78b-efaf3950f925",
   "metadata": {},
   "outputs": [],
   "source": [
    "#parsing the api response into a dataframe\n",
    "data_Ch = []\n",
    "\n",
    "for channel in channel_response:\n",
    "    snippet = channel['snippet']\n",
    "    status = channel['status']\n",
    "    statistics = channel['statistics']\n",
    "    brandingSettings = channel['brandingSettings']\n",
    "\n",
    "    data_Ch.append({\n",
    "        'channelId': channel['id'],\n",
    "        'channel_publishedAt': snippet['publishedAt'],\n",
    "        'channelTitle': snippet['title'],\n",
    "        'channel_viewCount': statistics['viewCount'],\n",
    "        'subscriberCount': statistics['subscriberCount'],\n",
    "        'hiddenSubscriberCount': statistics['hiddenSubscriberCount'],\n",
    "        'videoCount': statistics['videoCount'],\n",
    "        'keywords': brandingSettings['channel'].get('keywords', []),\n",
    "        'defaultLang': brandingSettings['channel'].get('defaultLanguage')\n",
    "    })\n",
    "\n",
    "\n"
   ]
  },
  {
   "cell_type": "code",
   "execution_count": 130,
   "id": "0b7b4f60-659a-478e-bde5-2a6119f8049b",
   "metadata": {},
   "outputs": [
    {
     "data": {
      "text/plain": [
       "(137, 9)"
      ]
     },
     "execution_count": 130,
     "metadata": {},
     "output_type": "execute_result"
    }
   ],
   "source": [
    "df_2 = pd.DataFrame(data_Ch)\n",
    "df_2.shape"
   ]
  },
  {
   "cell_type": "code",
   "execution_count": 140,
   "id": "375a24a6-94f3-4ef9-a020-35080671acd9",
   "metadata": {},
   "outputs": [],
   "source": [
    "df_2.to_csv('D:\\Project_DA\\Youtube Api\\ChannelInfo_TrendingVideo.csv')"
   ]
  },
  {
   "cell_type": "markdown",
   "id": "f356d4ad-64da-4473-a1da-c88b414e62cd",
   "metadata": {},
   "source": [
    "**Why my dataframe has only 137 rows whereas I have requested for 160 channel ids???\n",
    " Because some trending videos may have same channel ids**"
   ]
  },
  {
   "cell_type": "code",
   "execution_count": 132,
   "id": "914e061b-c0ac-45f7-9c3e-e8a140d8d030",
   "metadata": {},
   "outputs": [],
   "source": [
    "df_channels = set(df['channelId'])\n",
    "list_channels = set(channel_id_list)"
   ]
  },
  {
   "cell_type": "code",
   "execution_count": 133,
   "id": "3f5f3a30-2c08-41ca-8e12-88b575f24bc9",
   "metadata": {},
   "outputs": [],
   "source": [
    "missing_channels = list_channels-df_channels"
   ]
  },
  {
   "cell_type": "code",
   "execution_count": 134,
   "id": "db2a0da0-c211-457c-97ef-32b73d659722",
   "metadata": {},
   "outputs": [
    {
     "data": {
      "text/plain": [
       "set()"
      ]
     },
     "execution_count": 134,
     "metadata": {},
     "output_type": "execute_result"
    }
   ],
   "source": [
    "missing_channels"
   ]
  },
  {
   "cell_type": "code",
   "execution_count": null,
   "id": "6c74fa98-4846-4148-b35b-ea523bb49167",
   "metadata": {},
   "outputs": [],
   "source": []
  }
 ],
 "metadata": {
  "kernelspec": {
   "display_name": "Python 3 (ipykernel)",
   "language": "python",
   "name": "python3"
  },
  "language_info": {
   "codemirror_mode": {
    "name": "ipython",
    "version": 3
   },
   "file_extension": ".py",
   "mimetype": "text/x-python",
   "name": "python",
   "nbconvert_exporter": "python",
   "pygments_lexer": "ipython3",
   "version": "3.10.10"
  }
 },
 "nbformat": 4,
 "nbformat_minor": 5
}
